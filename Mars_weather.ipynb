{
  "cells": [
    {
      "cell_type": "markdown",
      "metadata": {
        "id": "nvcqwyp5fOOA"
      },
      "source": [
        "# **Scrape and Analyze Mars Weather Data**"
      ]
    },
    {
      "cell_type": "code",
      "execution_count": null,
      "metadata": {
        "id": "gdzHqY9PfOOC"
      },
      "outputs": [],
      "source": [
        "# Import relevant libraries\n",
        "from splinter import Browser\n",
        "from bs4 import BeautifulSoup as soup\n",
        "import matplotlib.pyplot as plt\n",
        "import pandas as pd"
      ]
    },
    {
      "cell_type": "code",
      "execution_count": null,
      "metadata": {
        "id": "evPgVCuffOOD"
      },
      "outputs": [],
      "source": [
        "browser = Browser('chrome')"
      ]
    },
    {
      "cell_type": "markdown",
      "metadata": {
        "id": "d98d94I4fOOE"
      },
      "source": [
        "### Step 1: Visit the Website\n"
      ]
    },
    {
      "cell_type": "code",
      "execution_count": null,
      "metadata": {
        "id": "1WfWeKxxfOOE"
      },
      "outputs": [],
      "source": [
        "# Visit the website\n",
        "# https://static.bc-edx.com/data/web/mars_facts/temperature.html\n",
        "url = \"https://static.bc-edx.com/data/web/mars_facts/temperature.html\"\n",
        "browser.visit(url)"
      ]
    },
    {
      "cell_type": "markdown",
      "metadata": {
        "id": "4FRaWi7lfOOE"
      },
      "source": [
        "### Step 2: Scrape the Table\n",
        "\n",
        "Create a Beautiful Soup object and use it to scrape the data in the HTML table.\n",
        "\n",
        "Note that this can also be achieved by using the Pandas `read_html` function. However, use Beautiful Soup here to continue sharpening web scraping skills."
      ]
    },
    {
      "cell_type": "code",
      "execution_count": null,
      "metadata": {
        "id": "BRn0uz4gfOOE"
      },
      "outputs": [],
      "source": [
        "# Create a Beautiful Soup Object\n",
        "html = browser.html\n",
        "soup = soup(html, 'html.parser')"
      ]
    },
    {
      "cell_type": "code",
      "execution_count": null,
      "metadata": {
        "id": "mTEfDxbGfOOF"
      },
      "outputs": [],
      "source": [
        "# Extract all rows of data\n",
        "data_rows = soup.find_all('tr', class_='data-row')"
      ]
    },
    {
      "cell_type": "markdown",
      "metadata": {
        "id": "EWnrS5XIfOOF"
      },
      "source": [
        "### Step 3: Store the Data\n",
        "\n",
        "Assemble the scraped data into a Pandas DataFrame. The columns should have the same headings as the table on the website. Here’s an explanation of the column headings:\n",
        "\n",
        "* `id`: the identification number of a single transmission from the Curiosity rover\n",
        "* `terrestrial_date`: the date on Earth\n",
        "* `sol`: the number of elapsed sols (Martian days) since Curiosity landed on Mars\n",
        "* `ls`: the solar longitude\n",
        "* `month`: the Martian month\n",
        "* `min_temp`: the minimum temperature, in Celsius, of a single Martian day (sol)\n",
        "* `pressure`: The atmospheric pressure at Curiosity's location"
      ]
    },
    {
      "cell_type": "code",
      "execution_count": null,
      "metadata": {
        "id": "MZJLy5tPfOOF"
      },
      "outputs": [],
      "source": [
        "# Create an empty list\n",
        "mars_temperatures = []\n",
        "headers = soup.find_all('th')\n",
        "columns = []\n",
        "# Loop through the scraped data to create a list of rows\n",
        "for row in data_rows:\n",
        "    current = []\n",
        "\n",
        "    for element in row.find_all('td'):\n",
        "        current.append(element.text)\n",
        "\n",
        "    mars_temperatures.append(current)"
      ]
    },
    {
      "cell_type": "code",
      "execution_count": null,
      "metadata": {
        "id": "6bFWD7pMfOOG"
      },
      "outputs": [],
      "source": [
        "# Create a Pandas DataFrame by using the list of rows and a list of the column names\n",
        "headers = soup.find_all('th')\n",
        "columns = []\n",
        "for element in headers:\n",
        "    columns.append(element.text)\n",
        "\n",
        "df = pd.DataFrame(mars_temperatures, columns = columns)"
      ]
    },
    {
      "cell_type": "code",
      "execution_count": null,
      "metadata": {
        "id": "bstpybAqfOOG",
        "outputId": "fb440352-c7ba-4666-e731-c6d1efc2bf12"
      },
      "outputs": [
        {
          "data": {
            "text/html": [
              "<div>\n",
              "<style scoped>\n",
              "    .dataframe tbody tr th:only-of-type {\n",
              "        vertical-align: middle;\n",
              "    }\n",
              "\n",
              "    .dataframe tbody tr th {\n",
              "        vertical-align: top;\n",
              "    }\n",
              "\n",
              "    .dataframe thead th {\n",
              "        text-align: right;\n",
              "    }\n",
              "</style>\n",
              "<table border=\"1\" class=\"dataframe\">\n",
              "  <thead>\n",
              "    <tr style=\"text-align: right;\">\n",
              "      <th></th>\n",
              "      <th>id</th>\n",
              "      <th>terrestrial_date</th>\n",
              "      <th>sol</th>\n",
              "      <th>ls</th>\n",
              "      <th>month</th>\n",
              "      <th>min_temp</th>\n",
              "      <th>pressure</th>\n",
              "    </tr>\n",
              "  </thead>\n",
              "  <tbody>\n",
              "    <tr>\n",
              "      <th>0</th>\n",
              "      <td>2</td>\n",
              "      <td>2012-08-16</td>\n",
              "      <td>10</td>\n",
              "      <td>155</td>\n",
              "      <td>6</td>\n",
              "      <td>-75.0</td>\n",
              "      <td>739.0</td>\n",
              "    </tr>\n",
              "    <tr>\n",
              "      <th>1</th>\n",
              "      <td>13</td>\n",
              "      <td>2012-08-17</td>\n",
              "      <td>11</td>\n",
              "      <td>156</td>\n",
              "      <td>6</td>\n",
              "      <td>-76.0</td>\n",
              "      <td>740.0</td>\n",
              "    </tr>\n",
              "    <tr>\n",
              "      <th>2</th>\n",
              "      <td>24</td>\n",
              "      <td>2012-08-18</td>\n",
              "      <td>12</td>\n",
              "      <td>156</td>\n",
              "      <td>6</td>\n",
              "      <td>-76.0</td>\n",
              "      <td>741.0</td>\n",
              "    </tr>\n",
              "    <tr>\n",
              "      <th>3</th>\n",
              "      <td>35</td>\n",
              "      <td>2012-08-19</td>\n",
              "      <td>13</td>\n",
              "      <td>157</td>\n",
              "      <td>6</td>\n",
              "      <td>-74.0</td>\n",
              "      <td>732.0</td>\n",
              "    </tr>\n",
              "    <tr>\n",
              "      <th>4</th>\n",
              "      <td>46</td>\n",
              "      <td>2012-08-20</td>\n",
              "      <td>14</td>\n",
              "      <td>157</td>\n",
              "      <td>6</td>\n",
              "      <td>-74.0</td>\n",
              "      <td>740.0</td>\n",
              "    </tr>\n",
              "    <tr>\n",
              "      <th>...</th>\n",
              "      <td>...</td>\n",
              "      <td>...</td>\n",
              "      <td>...</td>\n",
              "      <td>...</td>\n",
              "      <td>...</td>\n",
              "      <td>...</td>\n",
              "      <td>...</td>\n",
              "    </tr>\n",
              "    <tr>\n",
              "      <th>1862</th>\n",
              "      <td>1889</td>\n",
              "      <td>2018-02-23</td>\n",
              "      <td>1973</td>\n",
              "      <td>133</td>\n",
              "      <td>5</td>\n",
              "      <td>-78.0</td>\n",
              "      <td>730.0</td>\n",
              "    </tr>\n",
              "    <tr>\n",
              "      <th>1863</th>\n",
              "      <td>1892</td>\n",
              "      <td>2018-02-24</td>\n",
              "      <td>1974</td>\n",
              "      <td>134</td>\n",
              "      <td>5</td>\n",
              "      <td>-77.0</td>\n",
              "      <td>729.0</td>\n",
              "    </tr>\n",
              "    <tr>\n",
              "      <th>1864</th>\n",
              "      <td>1894</td>\n",
              "      <td>2018-02-25</td>\n",
              "      <td>1975</td>\n",
              "      <td>134</td>\n",
              "      <td>5</td>\n",
              "      <td>-76.0</td>\n",
              "      <td>729.0</td>\n",
              "    </tr>\n",
              "    <tr>\n",
              "      <th>1865</th>\n",
              "      <td>1893</td>\n",
              "      <td>2018-02-26</td>\n",
              "      <td>1976</td>\n",
              "      <td>135</td>\n",
              "      <td>5</td>\n",
              "      <td>-77.0</td>\n",
              "      <td>728.0</td>\n",
              "    </tr>\n",
              "    <tr>\n",
              "      <th>1866</th>\n",
              "      <td>1895</td>\n",
              "      <td>2018-02-27</td>\n",
              "      <td>1977</td>\n",
              "      <td>135</td>\n",
              "      <td>5</td>\n",
              "      <td>-77.0</td>\n",
              "      <td>727.0</td>\n",
              "    </tr>\n",
              "  </tbody>\n",
              "</table>\n",
              "<p>1867 rows × 7 columns</p>\n",
              "</div>"
            ],
            "text/plain": [
              "        id terrestrial_date   sol   ls month min_temp pressure\n",
              "0        2       2012-08-16    10  155     6    -75.0    739.0\n",
              "1       13       2012-08-17    11  156     6    -76.0    740.0\n",
              "2       24       2012-08-18    12  156     6    -76.0    741.0\n",
              "3       35       2012-08-19    13  157     6    -74.0    732.0\n",
              "4       46       2012-08-20    14  157     6    -74.0    740.0\n",
              "...    ...              ...   ...  ...   ...      ...      ...\n",
              "1862  1889       2018-02-23  1973  133     5    -78.0    730.0\n",
              "1863  1892       2018-02-24  1974  134     5    -77.0    729.0\n",
              "1864  1894       2018-02-25  1975  134     5    -76.0    729.0\n",
              "1865  1893       2018-02-26  1976  135     5    -77.0    728.0\n",
              "1866  1895       2018-02-27  1977  135     5    -77.0    727.0\n",
              "\n",
              "[1867 rows x 7 columns]"
            ]
          },
          "execution_count": 9,
          "metadata": {},
          "output_type": "execute_result"
        }
      ],
      "source": [
        "# Confirm DataFrame was created successfully\n",
        "df"
      ]
    },
    {
      "cell_type": "markdown",
      "metadata": {
        "id": "-YNiyr8rfOOG"
      },
      "source": [
        "### Step 4: Prepare Data for Analysis\n",
        "\n",
        "Examine the data types that are currently associated with each column. If necessary, cast (or convert) the data to the appropriate `datetime`, `int`, or `float` data types.\n",
        "\n",
        "  > **Hint** We can use the Pandas `astype` and `to_datetime` methods to accomplish the task.\n"
      ]
    },
    {
      "cell_type": "code",
      "execution_count": null,
      "metadata": {
        "id": "d2KtQlI1fOOH",
        "outputId": "22881790-8b87-4d0c-86a3-f1b87a228365"
      },
      "outputs": [
        {
          "data": {
            "text/plain": [
              "id                  object\n",
              "terrestrial_date    object\n",
              "sol                 object\n",
              "ls                  object\n",
              "month               object\n",
              "min_temp            object\n",
              "pressure            object\n",
              "dtype: object"
            ]
          },
          "execution_count": 10,
          "metadata": {},
          "output_type": "execute_result"
        }
      ],
      "source": [
        "# Examine data type of each column\n",
        "df.dtypes"
      ]
    },
    {
      "cell_type": "code",
      "execution_count": null,
      "metadata": {
        "id": "Z9wOg6aXfOOH",
        "outputId": "00ce1d6b-94c5-4d0a-81e4-f864656c31b2"
      },
      "outputs": [
        {
          "data": {
            "text/html": [
              "<div>\n",
              "<style scoped>\n",
              "    .dataframe tbody tr th:only-of-type {\n",
              "        vertical-align: middle;\n",
              "    }\n",
              "\n",
              "    .dataframe tbody tr th {\n",
              "        vertical-align: top;\n",
              "    }\n",
              "\n",
              "    .dataframe thead th {\n",
              "        text-align: right;\n",
              "    }\n",
              "</style>\n",
              "<table border=\"1\" class=\"dataframe\">\n",
              "  <thead>\n",
              "    <tr style=\"text-align: right;\">\n",
              "      <th></th>\n",
              "      <th>id</th>\n",
              "      <th>terrestrial_date</th>\n",
              "      <th>sol</th>\n",
              "      <th>ls</th>\n",
              "      <th>month</th>\n",
              "      <th>min_temp</th>\n",
              "      <th>pressure</th>\n",
              "    </tr>\n",
              "  </thead>\n",
              "  <tbody>\n",
              "    <tr>\n",
              "      <th>0</th>\n",
              "      <td>2</td>\n",
              "      <td>2012-08-16</td>\n",
              "      <td>10</td>\n",
              "      <td>155</td>\n",
              "      <td>6</td>\n",
              "      <td>-75.0</td>\n",
              "      <td>739.0</td>\n",
              "    </tr>\n",
              "    <tr>\n",
              "      <th>1</th>\n",
              "      <td>13</td>\n",
              "      <td>2012-08-17</td>\n",
              "      <td>11</td>\n",
              "      <td>156</td>\n",
              "      <td>6</td>\n",
              "      <td>-76.0</td>\n",
              "      <td>740.0</td>\n",
              "    </tr>\n",
              "    <tr>\n",
              "      <th>2</th>\n",
              "      <td>24</td>\n",
              "      <td>2012-08-18</td>\n",
              "      <td>12</td>\n",
              "      <td>156</td>\n",
              "      <td>6</td>\n",
              "      <td>-76.0</td>\n",
              "      <td>741.0</td>\n",
              "    </tr>\n",
              "    <tr>\n",
              "      <th>3</th>\n",
              "      <td>35</td>\n",
              "      <td>2012-08-19</td>\n",
              "      <td>13</td>\n",
              "      <td>157</td>\n",
              "      <td>6</td>\n",
              "      <td>-74.0</td>\n",
              "      <td>732.0</td>\n",
              "    </tr>\n",
              "    <tr>\n",
              "      <th>4</th>\n",
              "      <td>46</td>\n",
              "      <td>2012-08-20</td>\n",
              "      <td>14</td>\n",
              "      <td>157</td>\n",
              "      <td>6</td>\n",
              "      <td>-74.0</td>\n",
              "      <td>740.0</td>\n",
              "    </tr>\n",
              "  </tbody>\n",
              "</table>\n",
              "</div>"
            ],
            "text/plain": [
              "   id terrestrial_date  sol   ls  month  min_temp  pressure\n",
              "0   2       2012-08-16   10  155      6     -75.0     739.0\n",
              "1  13       2012-08-17   11  156      6     -76.0     740.0\n",
              "2  24       2012-08-18   12  156      6     -76.0     741.0\n",
              "3  35       2012-08-19   13  157      6     -74.0     732.0\n",
              "4  46       2012-08-20   14  157      6     -74.0     740.0"
            ]
          },
          "execution_count": 11,
          "metadata": {},
          "output_type": "execute_result"
        }
      ],
      "source": [
        "# Change data types for data analysis\n",
        "df = df.astype({'sol': int, 'ls': int, 'month': int, 'min_temp': float,\n",
        "                'pressure': float}, errors='raise')\n",
        "df['terrestrial_date']= pd.to_datetime(df['terrestrial_date'])\n",
        "df.head()"
      ]
    },
    {
      "cell_type": "code",
      "execution_count": null,
      "metadata": {
        "id": "77_95bhPfOOH",
        "outputId": "4654e8a3-f808-4809-ae11-e98eaa92c36b"
      },
      "outputs": [
        {
          "data": {
            "text/plain": [
              "id                          object\n",
              "terrestrial_date    datetime64[ns]\n",
              "sol                          int32\n",
              "ls                           int32\n",
              "month                        int32\n",
              "min_temp                   float64\n",
              "pressure                   float64\n",
              "dtype: object"
            ]
          },
          "execution_count": 12,
          "metadata": {},
          "output_type": "execute_result"
        }
      ],
      "source": [
        "# Confirm type changes were successful by examining data types again\n",
        "df.dtypes"
      ]
    },
    {
      "cell_type": "markdown",
      "metadata": {
        "id": "rGrt7PivfOOH"
      },
      "source": [
        "### Step 5: Analyze the Data\n",
        "\n",
        "Analyze your dataset by using Pandas functions to answer the following questions:\n",
        "\n",
        "1. How many months exist on Mars?\n",
        "2. How many Martian (and not Earth) days worth of data exist in the scraped dataset?\n",
        "3. What are the coldest and the warmest months on Mars (at the location of Curiosity)? To answer this question:\n",
        "    * Find the average the minimum daily temperature for all of the months.\n",
        "    * Plot the results as a bar chart.\n",
        "4. Which months have the lowest and the highest atmospheric pressure on Mars? To answer this question:\n",
        "    * Find the average the daily atmospheric pressure of all the months.\n",
        "    * Plot the results as a bar chart.\n",
        "5. About how many terrestrial (Earth) days exist in a Martian year? To answer this question:\n",
        "    * Consider how many days elapse on Earth in the time that Mars circles the Sun once.\n",
        "    * Visually estimate the result by plotting the daily minimum temperature.\n"
      ]
    },
    {
      "cell_type": "code",
      "execution_count": null,
      "metadata": {
        "id": "8cYf9xw1fOOH",
        "outputId": "b9d3ca06-8766-4a2e-f657-29b5ca7db361"
      },
      "outputs": [
        {
          "data": {
            "text/plain": [
              "12"
            ]
          },
          "execution_count": 13,
          "metadata": {},
          "output_type": "execute_result"
        }
      ],
      "source": [
        "# 1. How many months are there on Mars?\n",
        "df['month'].nunique()"
      ]
    },
    {
      "cell_type": "code",
      "execution_count": null,
      "metadata": {
        "id": "qnnGa2YefOOH",
        "outputId": "8e4ad486-8022-4af5-8577-81952acbf624"
      },
      "outputs": [
        {
          "data": {
            "text/plain": [
              "1867"
            ]
          },
          "execution_count": 14,
          "metadata": {},
          "output_type": "execute_result"
        }
      ],
      "source": [
        "# 2. How many Martian days' worth of data are there?\n",
        "df['id'].nunique()"
      ]
    },
    {
      "cell_type": "code",
      "execution_count": null,
      "metadata": {
        "id": "omw0Rt_gfOOI",
        "outputId": "da8449a9-7731-4a81-d2a7-137db4a1899e"
      },
      "outputs": [
        {
          "data": {
            "text/html": [
              "<div>\n",
              "<style scoped>\n",
              "    .dataframe tbody tr th:only-of-type {\n",
              "        vertical-align: middle;\n",
              "    }\n",
              "\n",
              "    .dataframe tbody tr th {\n",
              "        vertical-align: top;\n",
              "    }\n",
              "\n",
              "    .dataframe thead th {\n",
              "        text-align: right;\n",
              "    }\n",
              "</style>\n",
              "<table border=\"1\" class=\"dataframe\">\n",
              "  <thead>\n",
              "    <tr style=\"text-align: right;\">\n",
              "      <th></th>\n",
              "      <th>month</th>\n",
              "      <th>min_temp</th>\n",
              "    </tr>\n",
              "  </thead>\n",
              "  <tbody>\n",
              "    <tr>\n",
              "      <th>0</th>\n",
              "      <td>1</td>\n",
              "      <td>-77.160920</td>\n",
              "    </tr>\n",
              "    <tr>\n",
              "      <th>1</th>\n",
              "      <td>2</td>\n",
              "      <td>-79.932584</td>\n",
              "    </tr>\n",
              "    <tr>\n",
              "      <th>2</th>\n",
              "      <td>3</td>\n",
              "      <td>-83.307292</td>\n",
              "    </tr>\n",
              "    <tr>\n",
              "      <th>3</th>\n",
              "      <td>4</td>\n",
              "      <td>-82.747423</td>\n",
              "    </tr>\n",
              "    <tr>\n",
              "      <th>4</th>\n",
              "      <td>5</td>\n",
              "      <td>-79.308725</td>\n",
              "    </tr>\n",
              "    <tr>\n",
              "      <th>5</th>\n",
              "      <td>6</td>\n",
              "      <td>-75.299320</td>\n",
              "    </tr>\n",
              "    <tr>\n",
              "      <th>6</th>\n",
              "      <td>7</td>\n",
              "      <td>-72.281690</td>\n",
              "    </tr>\n",
              "    <tr>\n",
              "      <th>7</th>\n",
              "      <td>8</td>\n",
              "      <td>-68.382979</td>\n",
              "    </tr>\n",
              "    <tr>\n",
              "      <th>8</th>\n",
              "      <td>9</td>\n",
              "      <td>-69.171642</td>\n",
              "    </tr>\n",
              "    <tr>\n",
              "      <th>9</th>\n",
              "      <td>10</td>\n",
              "      <td>-71.982143</td>\n",
              "    </tr>\n",
              "    <tr>\n",
              "      <th>10</th>\n",
              "      <td>11</td>\n",
              "      <td>-71.985507</td>\n",
              "    </tr>\n",
              "    <tr>\n",
              "      <th>11</th>\n",
              "      <td>12</td>\n",
              "      <td>-74.451807</td>\n",
              "    </tr>\n",
              "  </tbody>\n",
              "</table>\n",
              "</div>"
            ],
            "text/plain": [
              "    month   min_temp\n",
              "0       1 -77.160920\n",
              "1       2 -79.932584\n",
              "2       3 -83.307292\n",
              "3       4 -82.747423\n",
              "4       5 -79.308725\n",
              "5       6 -75.299320\n",
              "6       7 -72.281690\n",
              "7       8 -68.382979\n",
              "8       9 -69.171642\n",
              "9      10 -71.982143\n",
              "10     11 -71.985507\n",
              "11     12 -74.451807"
            ]
          },
          "execution_count": 15,
          "metadata": {},
          "output_type": "execute_result"
        }
      ],
      "source": [
        "# 3. What is the average low temperature by month?\n",
        "avg_temp = df.groupby('month')['min_temp'].mean()\n",
        "avg_temp = avg_temp.to_frame()\n",
        "avg_temp.reset_index(inplace=True)\n",
        "avg_temp"
      ]
    },
    {
      "cell_type": "code",
      "execution_count": null,
      "metadata": {
        "id": "3iZ4pyA8fOOI",
        "outputId": "7b8cf93a-a3ce-4528-c332-00552249f0c5"
      },
      "outputs": [
        {
          "data": {
            "image/png": "[encoded data removed]",
            "text/plain": [
              "<Figure size 800x500 with 1 Axes>"
            ]
          },
          "metadata": {},
          "output_type": "display_data"
        }
      ],
      "source": [
        "# Plot the average temperature by month\n",
        "avg_temp['min_temp'].plot(kind = 'bar', figsize = (8,5))\n",
        "plt.xlabel('Month')\n",
        "plt.ylabel('Temperature (C)')\n",
        "plt.tight_layout()\n",
        "plt.show()"
      ]
    },
    {
      "cell_type": "code",
      "execution_count": null,
      "metadata": {
        "id": "Turwd5QmfOOI",
        "outputId": "093a7c52-a0f4-4896-bff8-268c337ac778"
      },
      "outputs": [
        {
          "name": "stdout",
          "output_type": "stream",
          "text": [
            "\n",
            "      The coldest month was month 3 at -83.307292°C. \n",
            "      The hotest month was month 8 at -68.382979°C.\n",
            "      \n"
          ]
        }
      ],
      "source": [
        "# Identify the coldest and hottest months in Curiosity's location\n",
        "row_min = avg_temp[avg_temp.min_temp == avg_temp.min_temp.min()]\n",
        "row_max = avg_temp[avg_temp.min_temp == avg_temp.min_temp.max()]\n",
        "\n",
        "\n",
        "month_max = row_max.month.to_string(index=False)\n",
        "month_min = row_min.month.to_string(index=False)\n",
        "temp_max = row_max.min_temp.to_string(index=False)\n",
        "temp_min = row_min.min_temp.to_string(index=False)\n",
        "\n",
        "print(f'''\n",
        "      The coldest month was month {month_min} at {temp_min}°C.\n",
        "      The hotest month was month {month_max} at {temp_max}°C.\n",
        "      ''')"
      ]
    },
    {
      "cell_type": "code",
      "execution_count": null,
      "metadata": {
        "id": "F4N1FB9NfOOI",
        "outputId": "445792a8-2e96-45f8-ef2e-67a363ed6b49"
      },
      "outputs": [
        {
          "data": {
            "text/plain": [
              "month\n",
              "1     862.488506\n",
              "2     889.455056\n",
              "3     877.322917\n",
              "4     806.329897\n",
              "5     748.557047\n",
              "6     745.054422\n",
              "7     795.105634\n",
              "8     873.829787\n",
              "9     913.305970\n",
              "10    887.312500\n",
              "11    857.014493\n",
              "12    842.156627\n",
              "Name: pressure, dtype: float64"
            ]
          },
          "execution_count": 31,
          "metadata": {},
          "output_type": "execute_result"
        }
      ],
      "source": [
        "# 4. Average pressure by Martian month\n",
        "avg_pressure = df.groupby('month')['pressure'].mean()\n",
        "avg_pressure"
      ]
    },
    {
      "cell_type": "code",
      "execution_count": null,
      "metadata": {
        "id": "CZ-12wuMfOOI",
        "outputId": "a7f07926-c301-40ef-e599-91f6eed64552"
      },
      "outputs": [
        {
          "data": {
            "image/png": "[encoded data removed]",
            "text/plain": [
              "<Figure size 800x500 with 1 Axes>"
            ]
          },
          "metadata": {},
          "output_type": "display_data"
        }
      ],
      "source": [
        "# Plot the average pressure by month\n",
        "avg_pressure.plot(kind = 'bar', rot = 0, figsize = (8,5))\n",
        "plt.xlabel('Month')\n",
        "plt.ylabel('Atmospheric Pressure')\n",
        "plt.tight_layout()\n",
        "plt.show()"
      ]
    },
    {
      "cell_type": "code",
      "execution_count": null,
      "metadata": {
        "id": "Ene3SWy1fOOJ",
        "outputId": "c8b23cd4-ae6b-4933-cc2b-a46c89e18d26"
      },
      "outputs": [
        {
          "name": "stdout",
          "output_type": "stream",
          "text": [
            "\n",
            "There are 687 terrestrial (earth) days in a Martian year. \n",
            "\n"
          ]
        }
      ],
      "source": [
        "# 5. How many terrestrial (earth) days are there in a Martian year?\n",
        "df_sorted = df.sort_values(by=['ls','terrestrial_date'])\n",
        "\n",
        "# month 1 year 1\n",
        "yr1_m1 = df_sorted[df_sorted.month==1].iloc[0]\n",
        "dt_yr1_m1 = yr1_m1['terrestrial_date']\n",
        "\n",
        "# month 2 year 1\n",
        "yr1_m2 = df_sorted[df_sorted.month==2].iloc[0]\n",
        "dt_yr1_m2 = yr1_m2['terrestrial_date']\n",
        "\n",
        "\n",
        "# Drop month 1 of year 1 so that we can find month 1 of year 2\n",
        "df_full_months = df_sorted[df_sorted.terrestrial_date >= dt_yr1_m2]#.sort_values(by=['terrestrial_date'])\n",
        "df_full_months = df_full_months.sort_values(by=['terrestrial_date'])\n",
        "df_full_months\n",
        "\n",
        "# month 1 year 2\n",
        "yr2_m1 = df_full_months[df_full_months.month==1].iloc[0]\n",
        "dt_yr2_m1 = yr2_m1['terrestrial_date']\n",
        "\n",
        "# Days between dt_yr1_m1 & dt_yr2_m1\n",
        "terrestrial_days = dt_yr2_m1-dt_yr1_m1\n",
        "\n",
        "print(f'''\n",
        "There are {terrestrial_days.days} terrestrial (earth) days in a Martian year.\n",
        "''')"
      ]
    },
    {
      "cell_type": "code",
      "execution_count": null,
      "metadata": {
        "id": "4Xl-PNltfOOJ",
        "outputId": "cce0c854-8201-4a08-d7fb-a83897308bc5"
      },
      "outputs": [
        {
          "data": {
            "image/png": "[encoded data removed]",
            "text/plain": [
              "<Figure size 1000x600 with 1 Axes>"
            ]
          },
          "metadata": {},
          "output_type": "display_data"
        }
      ],
      "source": [
        "#Visually estimate the result by plotting the daily minimum temperature\n",
        "df.plot(y = 'min_temp', figsize = (10,6))\n",
        "plt.xlabel('Count of Terrestrial Days')\n",
        "plt.ylabel('Minimum Temperature')\n",
        "plt.tight_layout()\n",
        "plt.show()"
      ]
    },
    {
      "cell_type": "markdown",
      "metadata": {
        "id": "l6VEEjBmfOOJ"
      },
      "source": [
        "On average, the third month has the coldest minimum temperature on Mars, and the eighth month is the warmest. But it is always very cold there in human terms!\n",
        "\n"
      ]
    },
    {
      "cell_type": "markdown",
      "metadata": {
        "id": "i_XnBbp3fOOJ"
      },
      "source": [
        "Atmospheric pressure is, on average, lowest in the sixth month and highest in the ninth."
      ]
    },
    {
      "cell_type": "markdown",
      "metadata": {
        "id": "QtsTrq7CfOOJ"
      },
      "source": [
        "The distance from peak to peak is roughly 1425-750, or 675 days. A year on Mars appears to be about 675 days from the plot. Internet search confirms that a Mars year is equivalent to 687 earth days."
      ]
    },
    {
      "cell_type": "markdown",
      "metadata": {
        "id": "nL9KHdXzfOOJ"
      },
      "source": [
        "### Step 6: Save the Data\n",
        "\n",
        "Export the DataFrame to a CSV file."
      ]
    },
    {
      "cell_type": "code",
      "execution_count": null,
      "metadata": {
        "id": "NkyhrD16fOOJ"
      },
      "outputs": [],
      "source": [
        "# Write the data to a CSV\n",
        "df.to_csv('Mars_Weather_Data.csv')"
      ]
    },
    {
      "cell_type": "code",
      "execution_count": null,
      "metadata": {
        "id": "CTb46BLKfOOJ"
      },
      "outputs": [],
      "source": [
        "browser.quit()"
      ]
    },
    {
      "cell_type": "code",
      "execution_count": null,
      "metadata": {
        "id": "hDidulubfOOJ"
      },
      "outputs": [],
      "source": []
    }
  ],
  "metadata": {
    "kernelspec": {
      "display_name": "Python 3 (ipykernel)",
      "language": "python",
      "name": "python3"
    },
    "language_info": {
      "codemirror_mode": {
        "name": "ipython",
        "version": 3
      },
      "file_extension": ".py",
      "mimetype": "text/x-python",
      "name": "python",
      "nbconvert_exporter": "python",
      "pygments_lexer": "ipython3",
      "version": "3.11.4"
    },
    "vscode": {
      "interpreter": {
        "hash": "31f2aee4e71d21fbe5cf8b01ff0e069b9275f58929596ceb00d14d90e3e16cd6"
      }
    },
    "colab": {
      "provenance": []
    }
  },
  "nbformat": 4,
  "nbformat_minor": 0
}